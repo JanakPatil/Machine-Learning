{
 "cells": [
  {
   "cell_type": "markdown",
   "metadata": {},
   "source": [
    "Enter your name below in formate of \"First_name Last_name\""
   ]
  },
  {
   "cell_type": "code",
   "execution_count": 1,
   "metadata": {},
   "outputs": [],
   "source": [
    "NAME = \"Janak Patil\""
   ]
  },
  {
   "cell_type": "markdown",
   "metadata": {},
   "source": [
    "---"
   ]
  },
  {
   "cell_type": "markdown",
   "metadata": {
    "deletable": false,
    "editable": false,
    "nbgrader": {
     "checksum": "455db19f894d2c1e93a2ae4212f59030",
     "grade": false,
     "grade_id": "Instructions",
     "locked": true,
     "schema_version": 1,
     "solution": false
    }
   },
   "source": [
    "Project - 1\n",
    "\n",
    "- To download data, go to this link and click download from data tab. You need to have Kaggle account for this.\n",
    "https://www.kaggle.com/jboysen/us-perm-visas\n",
    "\n",
    "Instructions for deliverables:\n",
    "- Do not change anything in any other cell except in cells with comment \"# YOUR CODE HERE\" or \"YOUR ANSWER HERE\". If you need to play around with data, play around with it in another notebook. But donot submit that extra work as part of this notebook.\n",
    "- Do not rename this notebook. Submit file as project1.ipynb only.\n",
    "- Submit only one notebook. Before submitting, make sure everything runs as expected. To check that, restart the kernel (in the menubar, select Kernel > Restart) and then run all cells (in the menubar, select Cell > Run All).\n",
    "\n",
    "Instructions for coding:\n",
    "- Put the dataset in same folder as this file.\n",
    "- Do not change the name of the dataset. Keep it as \"us_perm_visas.csv\" only.\n",
    "- Use groupby in almost all questions.\n",
    "- Use column 'case_number' for counting purposes. This means if this column has missing value, we don't count that row even if other columns have values in them.\n",
    "- If same data is avaialble in multiple columns, use column with less missing values.\n",
    "- Ignore missing data.\n",
    "- Your output should show exactly what has been asked. Do not show whole big table with all the information. e.g. if it has been asked to list top 3 countries, your out put should have only 3 countries and not list of all countries.\n",
    "\n",
    "Hint : All questions can be answered by using only one line of code. So try to use one line of code only to get answer."
   ]
  },
  {
   "cell_type": "code",
   "execution_count": 2,
   "metadata": {
    "deletable": false,
    "editable": false,
    "nbgrader": {
     "checksum": "545e03dd9c42d7a30ac128b96d4dc321",
     "grade": false,
     "grade_id": "ReadData",
     "locked": true,
     "schema_version": 1,
     "solution": false
    }
   },
   "outputs": [],
   "source": [
    "import warnings\n",
    "warnings.simplefilter('ignore')\n",
    "import pandas as pd\n",
    "data = pd.read_csv(\"us_perm_visas.csv\")"
   ]
  },
  {
   "cell_type": "code",
   "execution_count": 3,
   "metadata": {
    "deletable": false,
    "editable": false,
    "nbgrader": {
     "checksum": "f4a1ee34199f5a5259d7471141981bd4",
     "grade": false,
     "grade_id": "DataHead",
     "locked": true,
     "schema_version": 1,
     "solution": false
    }
   },
   "outputs": [
    {
     "data": {
      "text/html": [
       "<div>\n",
       "<style scoped>\n",
       "    .dataframe tbody tr th:only-of-type {\n",
       "        vertical-align: middle;\n",
       "    }\n",
       "\n",
       "    .dataframe tbody tr th {\n",
       "        vertical-align: top;\n",
       "    }\n",
       "\n",
       "    .dataframe thead th {\n",
       "        text-align: right;\n",
       "    }\n",
       "</style>\n",
       "<table border=\"1\" class=\"dataframe\">\n",
       "  <thead>\n",
       "    <tr style=\"text-align: right;\">\n",
       "      <th></th>\n",
       "      <th>add_these_pw_job_title_9089</th>\n",
       "      <th>agent_city</th>\n",
       "      <th>agent_firm_name</th>\n",
       "      <th>agent_state</th>\n",
       "      <th>application_type</th>\n",
       "      <th>case_no</th>\n",
       "      <th>case_number</th>\n",
       "      <th>case_received_date</th>\n",
       "      <th>case_status</th>\n",
       "      <th>class_of_admission</th>\n",
       "      <th>...</th>\n",
       "      <th>ri_pvt_employment_firm_to</th>\n",
       "      <th>ri_us_workers_considered</th>\n",
       "      <th>schd_a_sheepherder</th>\n",
       "      <th>us_economic_sector</th>\n",
       "      <th>wage_offer_from_9089</th>\n",
       "      <th>wage_offer_to_9089</th>\n",
       "      <th>wage_offer_unit_of_pay_9089</th>\n",
       "      <th>wage_offered_from_9089</th>\n",
       "      <th>wage_offered_to_9089</th>\n",
       "      <th>wage_offered_unit_of_pay_9089</th>\n",
       "    </tr>\n",
       "  </thead>\n",
       "  <tbody>\n",
       "    <tr>\n",
       "      <th>0</th>\n",
       "      <td>NaN</td>\n",
       "      <td>NaN</td>\n",
       "      <td>NaN</td>\n",
       "      <td>NaN</td>\n",
       "      <td>PERM</td>\n",
       "      <td>A-07323-97014</td>\n",
       "      <td>NaN</td>\n",
       "      <td>NaN</td>\n",
       "      <td>Certified</td>\n",
       "      <td>J-1</td>\n",
       "      <td>...</td>\n",
       "      <td>NaN</td>\n",
       "      <td>NaN</td>\n",
       "      <td>NaN</td>\n",
       "      <td>IT</td>\n",
       "      <td>75629</td>\n",
       "      <td>NaN</td>\n",
       "      <td>yr</td>\n",
       "      <td>NaN</td>\n",
       "      <td>NaN</td>\n",
       "      <td>NaN</td>\n",
       "    </tr>\n",
       "    <tr>\n",
       "      <th>1</th>\n",
       "      <td>NaN</td>\n",
       "      <td>NaN</td>\n",
       "      <td>NaN</td>\n",
       "      <td>NaN</td>\n",
       "      <td>PERM</td>\n",
       "      <td>A-07332-99439</td>\n",
       "      <td>NaN</td>\n",
       "      <td>NaN</td>\n",
       "      <td>Denied</td>\n",
       "      <td>B-2</td>\n",
       "      <td>...</td>\n",
       "      <td>NaN</td>\n",
       "      <td>NaN</td>\n",
       "      <td>NaN</td>\n",
       "      <td>Other Economic Sector</td>\n",
       "      <td>37024</td>\n",
       "      <td>NaN</td>\n",
       "      <td>yr</td>\n",
       "      <td>NaN</td>\n",
       "      <td>NaN</td>\n",
       "      <td>NaN</td>\n",
       "    </tr>\n",
       "    <tr>\n",
       "      <th>2</th>\n",
       "      <td>NaN</td>\n",
       "      <td>NaN</td>\n",
       "      <td>NaN</td>\n",
       "      <td>NaN</td>\n",
       "      <td>PERM</td>\n",
       "      <td>A-07333-99643</td>\n",
       "      <td>NaN</td>\n",
       "      <td>NaN</td>\n",
       "      <td>Certified</td>\n",
       "      <td>H-1B</td>\n",
       "      <td>...</td>\n",
       "      <td>NaN</td>\n",
       "      <td>NaN</td>\n",
       "      <td>NaN</td>\n",
       "      <td>Aerospace</td>\n",
       "      <td>47923</td>\n",
       "      <td>NaN</td>\n",
       "      <td>yr</td>\n",
       "      <td>NaN</td>\n",
       "      <td>NaN</td>\n",
       "      <td>NaN</td>\n",
       "    </tr>\n",
       "    <tr>\n",
       "      <th>3</th>\n",
       "      <td>NaN</td>\n",
       "      <td>NaN</td>\n",
       "      <td>NaN</td>\n",
       "      <td>NaN</td>\n",
       "      <td>PERM</td>\n",
       "      <td>A-07339-01930</td>\n",
       "      <td>NaN</td>\n",
       "      <td>NaN</td>\n",
       "      <td>Certified</td>\n",
       "      <td>B-2</td>\n",
       "      <td>...</td>\n",
       "      <td>NaN</td>\n",
       "      <td>NaN</td>\n",
       "      <td>NaN</td>\n",
       "      <td>Other Economic Sector</td>\n",
       "      <td>10.97</td>\n",
       "      <td>NaN</td>\n",
       "      <td>hr</td>\n",
       "      <td>NaN</td>\n",
       "      <td>NaN</td>\n",
       "      <td>NaN</td>\n",
       "    </tr>\n",
       "    <tr>\n",
       "      <th>4</th>\n",
       "      <td>NaN</td>\n",
       "      <td>NaN</td>\n",
       "      <td>NaN</td>\n",
       "      <td>NaN</td>\n",
       "      <td>PERM</td>\n",
       "      <td>A-07345-03565</td>\n",
       "      <td>NaN</td>\n",
       "      <td>NaN</td>\n",
       "      <td>Certified</td>\n",
       "      <td>L-1</td>\n",
       "      <td>...</td>\n",
       "      <td>NaN</td>\n",
       "      <td>NaN</td>\n",
       "      <td>NaN</td>\n",
       "      <td>Advanced Mfg</td>\n",
       "      <td>100000</td>\n",
       "      <td>NaN</td>\n",
       "      <td>yr</td>\n",
       "      <td>NaN</td>\n",
       "      <td>NaN</td>\n",
       "      <td>NaN</td>\n",
       "    </tr>\n",
       "  </tbody>\n",
       "</table>\n",
       "<p>5 rows × 154 columns</p>\n",
       "</div>"
      ],
      "text/plain": [
       "  add_these_pw_job_title_9089 agent_city agent_firm_name agent_state  \\\n",
       "0                         NaN        NaN             NaN         NaN   \n",
       "1                         NaN        NaN             NaN         NaN   \n",
       "2                         NaN        NaN             NaN         NaN   \n",
       "3                         NaN        NaN             NaN         NaN   \n",
       "4                         NaN        NaN             NaN         NaN   \n",
       "\n",
       "  application_type        case_no case_number case_received_date case_status  \\\n",
       "0             PERM  A-07323-97014         NaN                NaN   Certified   \n",
       "1             PERM  A-07332-99439         NaN                NaN      Denied   \n",
       "2             PERM  A-07333-99643         NaN                NaN   Certified   \n",
       "3             PERM  A-07339-01930         NaN                NaN   Certified   \n",
       "4             PERM  A-07345-03565         NaN                NaN   Certified   \n",
       "\n",
       "  class_of_admission              ...               ri_pvt_employment_firm_to  \\\n",
       "0                J-1              ...                                     NaN   \n",
       "1                B-2              ...                                     NaN   \n",
       "2               H-1B              ...                                     NaN   \n",
       "3                B-2              ...                                     NaN   \n",
       "4                L-1              ...                                     NaN   \n",
       "\n",
       "  ri_us_workers_considered schd_a_sheepherder     us_economic_sector  \\\n",
       "0                      NaN                NaN                     IT   \n",
       "1                      NaN                NaN  Other Economic Sector   \n",
       "2                      NaN                NaN              Aerospace   \n",
       "3                      NaN                NaN  Other Economic Sector   \n",
       "4                      NaN                NaN           Advanced Mfg   \n",
       "\n",
       "  wage_offer_from_9089 wage_offer_to_9089 wage_offer_unit_of_pay_9089  \\\n",
       "0                75629                NaN                          yr   \n",
       "1                37024                NaN                          yr   \n",
       "2                47923                NaN                          yr   \n",
       "3                10.97                NaN                          hr   \n",
       "4               100000                NaN                          yr   \n",
       "\n",
       "  wage_offered_from_9089 wage_offered_to_9089  wage_offered_unit_of_pay_9089  \n",
       "0                    NaN                  NaN                            NaN  \n",
       "1                    NaN                  NaN                            NaN  \n",
       "2                    NaN                  NaN                            NaN  \n",
       "3                    NaN                  NaN                            NaN  \n",
       "4                    NaN                  NaN                            NaN  \n",
       "\n",
       "[5 rows x 154 columns]"
      ]
     },
     "execution_count": 3,
     "metadata": {},
     "output_type": "execute_result"
    }
   ],
   "source": [
    "data.head()"
   ]
  },
  {
   "cell_type": "code",
   "execution_count": 4,
   "metadata": {
    "deletable": false,
    "editable": false,
    "nbgrader": {
     "checksum": "a0ea2728e6bb3ece98230c70d0176827",
     "grade": false,
     "grade_id": "DataShape",
     "locked": true,
     "schema_version": 1,
     "solution": false
    }
   },
   "outputs": [
    {
     "data": {
      "text/plain": [
       "(374362, 154)"
      ]
     },
     "execution_count": 4,
     "metadata": {},
     "output_type": "execute_result"
    }
   ],
   "source": [
    "data.shape"
   ]
  },
  {
   "cell_type": "code",
   "execution_count": 5,
   "metadata": {
    "deletable": false,
    "editable": false,
    "nbgrader": {
     "checksum": "e302d7db7318024dfcdbdcce9af750fa",
     "grade": false,
     "grade_id": "DataColumns",
     "locked": true,
     "schema_version": 1,
     "solution": false
    }
   },
   "outputs": [
    {
     "name": "stdout",
     "output_type": "stream",
     "text": [
      "add_these_pw_job_title_9089\n",
      "agent_city\n",
      "agent_firm_name\n",
      "agent_state\n",
      "application_type\n",
      "case_no\n",
      "case_number\n",
      "case_received_date\n",
      "case_status\n",
      "class_of_admission\n",
      "country_of_citizenship\n",
      "country_of_citzenship\n",
      "decision_date\n",
      "employer_address_1\n",
      "employer_address_2\n",
      "employer_city\n",
      "employer_country\n",
      "employer_decl_info_title\n",
      "employer_name\n",
      "employer_num_employees\n",
      "employer_phone\n",
      "employer_phone_ext\n",
      "employer_postal_code\n",
      "employer_state\n",
      "employer_yr_estab\n",
      "foreign_worker_info_alt_edu_experience\n",
      "foreign_worker_info_birth_country\n",
      "foreign_worker_info_city\n",
      "foreign_worker_info_education\n",
      "foreign_worker_info_education_other\n",
      "foreign_worker_info_inst\n",
      "foreign_worker_info_major\n",
      "foreign_worker_info_postal_code\n",
      "foreign_worker_info_rel_occup_exp\n",
      "foreign_worker_info_req_experience\n",
      "foreign_worker_info_state\n",
      "foreign_worker_info_training_comp\n",
      "foreign_worker_ownership_interest\n",
      "foreign_worker_yr_rel_edu_completed\n",
      "fw_info_alt_edu_experience\n",
      "fw_info_birth_country\n",
      "fw_info_education_other\n",
      "fw_info_postal_code\n",
      "fw_info_rel_occup_exp\n",
      "fw_info_req_experience\n",
      "fw_info_training_comp\n",
      "fw_info_yr_rel_edu_completed\n",
      "fw_ownership_interest\n",
      "ji_foreign_worker_live_on_premises\n",
      "ji_fw_live_on_premises\n",
      "ji_live_in_dom_svc_contract\n",
      "ji_live_in_domestic_service\n",
      "ji_offered_to_sec_j_foreign_worker\n",
      "ji_offered_to_sec_j_fw\n",
      "job_info_alt_cmb_ed_oth_yrs\n",
      "job_info_alt_combo_ed\n",
      "job_info_alt_combo_ed_exp\n",
      "job_info_alt_combo_ed_other\n",
      "job_info_alt_field\n",
      "job_info_alt_field_name\n",
      "job_info_alt_occ\n",
      "job_info_alt_occ_job_title\n",
      "job_info_alt_occ_num_months\n",
      "job_info_combo_occupation\n",
      "job_info_education\n",
      "job_info_education_other\n",
      "job_info_experience\n",
      "job_info_experience_num_months\n",
      "job_info_foreign_ed\n",
      "job_info_foreign_lang_req\n",
      "job_info_job_req_normal\n",
      "job_info_job_title\n",
      "job_info_major\n",
      "job_info_training\n",
      "job_info_training_field\n",
      "job_info_training_num_months\n",
      "job_info_work_city\n",
      "job_info_work_postal_code\n",
      "job_info_work_state\n",
      "naics_2007_us_code\n",
      "naics_2007_us_title\n",
      "naics_code\n",
      "naics_title\n",
      "naics_us_code\n",
      "naics_us_code_2007\n",
      "naics_us_title\n",
      "naics_us_title_2007\n",
      "orig_case_no\n",
      "orig_file_date\n",
      "preparer_info_emp_completed\n",
      "preparer_info_title\n",
      "pw_amount_9089\n",
      "pw_determ_date\n",
      "pw_expire_date\n",
      "pw_job_title_908\n",
      "pw_job_title_9089\n",
      "pw_level_9089\n",
      "pw_soc_code\n",
      "pw_soc_title\n",
      "pw_source_name_9089\n",
      "pw_source_name_other_9089\n",
      "pw_track_num\n",
      "pw_unit_of_pay_9089\n",
      "rec_info_barg_rep_notified\n",
      "recr_info_barg_rep_notified\n",
      "recr_info_coll_teach_comp_proc\n",
      "recr_info_coll_univ_teacher\n",
      "recr_info_employer_rec_payment\n",
      "recr_info_first_ad_start\n",
      "recr_info_job_fair_from\n",
      "recr_info_job_fair_to\n",
      "recr_info_on_campus_recr_from\n",
      "recr_info_on_campus_recr_to\n",
      "recr_info_pro_org_advert_from\n",
      "recr_info_pro_org_advert_to\n",
      "recr_info_prof_org_advert_from\n",
      "recr_info_prof_org_advert_to\n",
      "recr_info_professional_occ\n",
      "recr_info_radio_tv_ad_from\n",
      "recr_info_radio_tv_ad_to\n",
      "recr_info_second_ad_start\n",
      "recr_info_sunday_newspaper\n",
      "recr_info_swa_job_order_end\n",
      "recr_info_swa_job_order_start\n",
      "refile\n",
      "ri_1st_ad_newspaper_name\n",
      "ri_2nd_ad_newspaper_name\n",
      "ri_2nd_ad_newspaper_or_journal\n",
      "ri_campus_placement_from\n",
      "ri_campus_placement_to\n",
      "ri_coll_tch_basic_process\n",
      "ri_coll_teach_pro_jnl\n",
      "ri_coll_teach_select_date\n",
      "ri_employee_referral_prog_from\n",
      "ri_employee_referral_prog_to\n",
      "ri_employer_web_post_from\n",
      "ri_employer_web_post_to\n",
      "ri_job_search_website_from\n",
      "ri_job_search_website_to\n",
      "ri_layoff_in_past_six_months\n",
      "ri_local_ethnic_paper_from\n",
      "ri_local_ethnic_paper_to\n",
      "ri_posted_notice_at_worksite\n",
      "ri_pvt_employment_firm_from\n",
      "ri_pvt_employment_firm_to\n",
      "ri_us_workers_considered\n",
      "schd_a_sheepherder\n",
      "us_economic_sector\n",
      "wage_offer_from_9089\n",
      "wage_offer_to_9089\n",
      "wage_offer_unit_of_pay_9089\n",
      "wage_offered_from_9089\n",
      "wage_offered_to_9089\n",
      "wage_offered_unit_of_pay_9089\n"
     ]
    }
   ],
   "source": [
    "for i in data.columns:\n",
    "    print(i)"
   ]
  },
  {
   "cell_type": "markdown",
   "metadata": {
    "deletable": false,
    "editable": false,
    "nbgrader": {
     "checksum": "f1f73675e634cb1a243264d45c9786e7",
     "grade": false,
     "grade_id": "Question1",
     "locked": true,
     "schema_version": 1,
     "solution": false
    }
   },
   "source": [
    "Q1. What is the count of applications submitted by each country?"
   ]
  },
  {
   "cell_type": "code",
   "execution_count": 6,
   "metadata": {
    "deletable": false,
    "nbgrader": {
     "checksum": "c6e37dd21ba17a848ab6a7eec9800fcf",
     "grade": true,
     "grade_id": "Answer1",
     "locked": false,
     "points": 6,
     "schema_version": 1,
     "solution": true
    }
   },
   "outputs": [
    {
     "data": {
      "text/plain": [
       "country_of_citizenship\n",
       "AFGHANISTAN                   16\n",
       "ALBANIA                       93\n",
       "ALGERIA                       29\n",
       "ANDORRA                        1\n",
       "ANGOLA                        13\n",
       "ANTIGUA AND BARBUDA            9\n",
       "ARGENTINA                    760\n",
       "ARMENIA                      107\n",
       "ARUBA                          0\n",
       "AUSTRALIA                   1092\n",
       "AUSTRIA                      143\n",
       "AZERBAIJAN                    46\n",
       "BAHAMAS                       68\n",
       "BAHRAIN                        7\n",
       "BANGLADESH                   700\n",
       "BARBADOS                      29\n",
       "BELARUS                      329\n",
       "BELGIUM                      150\n",
       "BELIZE                        25\n",
       "BENIN                         18\n",
       "BERMUDA                        6\n",
       "BHUTAN                         6\n",
       "BOLIVIA                      113\n",
       "BOSNIA AND HERZEGOVINA        36\n",
       "BOTSWANA                      13\n",
       "BRAZIL                      1900\n",
       "BRITISH VIRGIN ISLANDS         2\n",
       "BRUNEI                         3\n",
       "BULGARIA                     377\n",
       "BURKINA FASO                   9\n",
       "                            ... \n",
       "SUDAN                         20\n",
       "SURINAME                       7\n",
       "SWAZILAND                      5\n",
       "SWEDEN                       306\n",
       "SWITZERLAND                  155\n",
       "SYRIA                        292\n",
       "TAIWAN                      2487\n",
       "TAJIKISTAN                    22\n",
       "TANZANIA                      64\n",
       "THAILAND                     576\n",
       "TOGO                          12\n",
       "TRINIDAD AND TOBAGO          205\n",
       "TUNISIA                       39\n",
       "TURKEY                      1515\n",
       "TURKMENISTAN                  21\n",
       "TURKS AND CAICOS ISLANDS       1\n",
       "UGANDA                        34\n",
       "UKRAINE                     1018\n",
       "UNITED ARAB EMIRATES           8\n",
       "UNITED KINGDOM              2932\n",
       "UNITED STATES OF AMERICA     402\n",
       "URUGUAY                       82\n",
       "UZBEKISTAN                    87\n",
       "VANUATU                        1\n",
       "VENEZUELA                   1762\n",
       "VIETNAM                     1996\n",
       "YEMEN                         13\n",
       "YUGOSLAVIA                     1\n",
       "ZAMBIA                        28\n",
       "ZIMBABWE                     111\n",
       "Name: case_number, Length: 202, dtype: int64"
      ]
     },
     "execution_count": 6,
     "metadata": {},
     "output_type": "execute_result"
    }
   ],
   "source": [
    "data.groupby('country_of_citizenship')['case_number'].count()"
   ]
  },
  {
   "cell_type": "markdown",
   "metadata": {
    "deletable": false,
    "editable": false,
    "nbgrader": {
     "checksum": "c07ddaa95d94809e984dc0d1e9590d42",
     "grade": false,
     "grade_id": "Question2",
     "locked": true,
     "schema_version": 1,
     "solution": false
    }
   },
   "source": [
    "Q2. List top 3 countries with highest number of applications and also show number of applications by them."
   ]
  },
  {
   "cell_type": "code",
   "execution_count": 7,
   "metadata": {
    "deletable": false,
    "nbgrader": {
     "checksum": "be199bd43c061295f7f4b08ff629d0f4",
     "grade": true,
     "grade_id": "Answer2",
     "locked": false,
     "points": 6,
     "schema_version": 1,
     "solution": true
    }
   },
   "outputs": [
    {
     "data": {
      "text/plain": [
       "country_of_citizenship\n",
       "INDIA          130707\n",
       "CHINA           20177\n",
       "SOUTH KOREA     18209\n",
       "Name: case_number, dtype: int64"
      ]
     },
     "execution_count": 7,
     "metadata": {},
     "output_type": "execute_result"
    }
   ],
   "source": [
    "data.groupby('country_of_citizenship')['case_number'].count().sort_values(ascending=False).head(3)"
   ]
  },
  {
   "cell_type": "markdown",
   "metadata": {
    "deletable": false,
    "editable": false,
    "nbgrader": {
     "checksum": "d48b89ec29881d81141d999033af9116",
     "grade": false,
     "grade_id": "Question3",
     "locked": true,
     "schema_version": 1,
     "solution": false
    }
   },
   "source": [
    "Q3. How many applications were denied?"
   ]
  },
  {
   "cell_type": "code",
   "execution_count": 9,
   "metadata": {
    "deletable": false,
    "nbgrader": {
     "checksum": "9213da828a3e19eedc7a88221fb62e39",
     "grade": true,
     "grade_id": "Answer3",
     "locked": false,
     "points": 6,
     "schema_version": 1,
     "solution": true
    }
   },
   "outputs": [
    {
     "data": {
      "text/plain": [
       "12781"
      ]
     },
     "execution_count": 9,
     "metadata": {},
     "output_type": "execute_result"
    }
   ],
   "source": [
    "data[data['case_status'] == 'Denied']['case_number'].count()"
   ]
  },
  {
   "cell_type": "markdown",
   "metadata": {
    "deletable": false,
    "editable": false,
    "nbgrader": {
     "checksum": "e3b76d7086df27b38c55b7868229ffd7",
     "grade": false,
     "grade_id": "Question4",
     "locked": true,
     "schema_version": 1,
     "solution": false
    }
   },
   "source": [
    "Q4. How many applicants holding H-1B visas were certified for Permenant Residency? (Consider all forms used for writing \"H1-B\" in data. Consider only H1-B, not H1-B1)"
   ]
  },
  {
   "cell_type": "code",
   "execution_count": 10,
   "metadata": {
    "deletable": false,
    "nbgrader": {
     "checksum": "31010750698fc27d0a9fbe62d60fa818",
     "grade": true,
     "grade_id": "Answer4",
     "locked": false,
     "points": 6,
     "schema_version": 1,
     "solution": true
    }
   },
   "outputs": [
    {
     "data": {
      "text/plain": [
       "case_status\n",
       "Certified    88890\n",
       "Name: case_number, dtype: int64"
      ]
     },
     "execution_count": 10,
     "metadata": {},
     "output_type": "execute_result"
    }
   ],
   "source": [
    "data[(data.case_status == 'Certified') & ((data.class_of_admission == 'H-1B')|(data.class_of_admission == 'H1B'))].groupby('case_status')['case_number'].count()"
   ]
  },
  {
   "cell_type": "markdown",
   "metadata": {
    "deletable": false,
    "editable": false,
    "nbgrader": {
     "checksum": "90710ebfc17897c947ca7322392f6b84",
     "grade": false,
     "grade_id": "Question5",
     "locked": true,
     "schema_version": 1,
     "solution": false
    }
   },
   "source": [
    "Q5. Sort columns in descending order according to number of missing values in them."
   ]
  },
  {
   "cell_type": "code",
   "execution_count": 11,
   "metadata": {
    "deletable": false,
    "nbgrader": {
     "checksum": "f0b2a75e6954953165346512ff85c514",
     "grade": true,
     "grade_id": "Answer5",
     "locked": false,
     "points": 6,
     "schema_version": 1,
     "solution": true
    }
   },
   "outputs": [
    {
     "data": {
      "text/plain": [
       "orig_file_date                         374081\n",
       "orig_case_no                           374068\n",
       "recr_info_job_fair_to                  372569\n",
       "recr_info_job_fair_from                372564\n",
       "recr_info_on_campus_recr_to            372497\n",
       "recr_info_on_campus_recr_from          372490\n",
       "ji_live_in_dom_svc_contract            371964\n",
       "foreign_worker_info_education_other    370422\n",
       "job_info_training_field                369883\n",
       "job_info_training_num_months           369583\n",
       "ri_coll_teach_select_date              368632\n",
       "ri_coll_tch_basic_process              367349\n",
       "recr_info_coll_teach_comp_proc         367341\n",
       "job_info_education_other               366593\n",
       "job_info_alt_combo_ed_other            365148\n",
       "recr_info_pro_org_advert_to            360292\n",
       "recr_info_pro_org_advert_from          360286\n",
       "pw_source_name_other_9089              358603\n",
       "ri_pvt_employment_firm_to              357922\n",
       "ri_pvt_employment_firm_from            357920\n",
       "ri_us_workers_considered               357129\n",
       "naics_2007_us_title                    354462\n",
       "recr_info_radio_tv_ad_from             354009\n",
       "recr_info_radio_tv_ad_to               354008\n",
       "naics_2007_us_code                     353846\n",
       "country_of_citzenship                  353788\n",
       "employer_phone_ext                     350901\n",
       "recr_info_prof_org_advert_to           346276\n",
       "recr_info_prof_org_advert_from         346269\n",
       "ri_campus_placement_to                 344369\n",
       "                                        ...  \n",
       "schd_a_sheepherder                     135288\n",
       "recr_info_professional_occ             135286\n",
       "job_info_foreign_lang_req              135286\n",
       "job_info_training                      135284\n",
       "job_info_job_req_normal                135283\n",
       "job_info_education                     135282\n",
       "ji_live_in_domestic_service            135282\n",
       "job_info_experience                    135281\n",
       "job_info_combo_occupation              135279\n",
       "case_received_date                     135271\n",
       "case_number                            135269\n",
       "wage_offer_unit_of_pay_9089            115916\n",
       "wage_offer_from_9089                   114771\n",
       "pw_level_9089                           27627\n",
       "class_of_admission                      22845\n",
       "country_of_citizenship                  20633\n",
       "pw_soc_title                             2336\n",
       "pw_amount_9089                           2216\n",
       "pw_source_name_9089                      2099\n",
       "pw_unit_of_pay_9089                      1572\n",
       "pw_soc_code                               397\n",
       "job_info_work_state                       103\n",
       "job_info_work_city                        102\n",
       "employer_state                             42\n",
       "employer_address_1                         42\n",
       "employer_postal_code                       37\n",
       "employer_city                              14\n",
       "employer_name                              12\n",
       "case_status                                 0\n",
       "decision_date                               0\n",
       "Length: 154, dtype: int64"
      ]
     },
     "execution_count": 11,
     "metadata": {},
     "output_type": "execute_result"
    }
   ],
   "source": [
    "data.isna().sum().sort_values(ascending=False)"
   ]
  },
  {
   "cell_type": "markdown",
   "metadata": {
    "deletable": false,
    "editable": false,
    "nbgrader": {
     "checksum": "bdd6a9a8d1837424c61d591c36123ba2",
     "grade": false,
     "grade_id": "Question6",
     "locked": true,
     "schema_version": 1,
     "solution": false
    }
   },
   "source": [
    "Q6. List top 10 cities from which employers have submitted the most applications. How many applicarions were submitted by them?"
   ]
  },
  {
   "cell_type": "code",
   "execution_count": 12,
   "metadata": {
    "deletable": false,
    "nbgrader": {
     "checksum": "0a6daa3c6bfb088d1f61bb54a6ddfd53",
     "grade": true,
     "grade_id": "Answer6",
     "locked": false,
     "points": 6,
     "schema_version": 1,
     "solution": true
    }
   },
   "outputs": [
    {
     "data": {
      "text/plain": [
       "employer_city\n",
       "COLLEGE STATION    11632\n",
       "NEW YORK            9844\n",
       "SANTA CLARA         6966\n",
       "SAN JOSE            6073\n",
       "MOUNTAIN VIEW       6028\n",
       "REDMOND             4901\n",
       "SAN FRANCISCO       4125\n",
       "SUNNYVALE           4075\n",
       "PLANO               3844\n",
       "CHICAGO             3784\n",
       "Name: case_number, dtype: int64"
      ]
     },
     "execution_count": 12,
     "metadata": {},
     "output_type": "execute_result"
    }
   ],
   "source": [
    "data.groupby('employer_city')['case_number'].count().sort_values(ascending=False).head(10)"
   ]
  },
  {
   "cell_type": "markdown",
   "metadata": {
    "deletable": false,
    "editable": false,
    "nbgrader": {
     "checksum": "66321a0b78609f7194bd70d7029f4945",
     "grade": false,
     "grade_id": "Question7",
     "locked": true,
     "schema_version": 1,
     "solution": false
    }
   },
   "source": [
    "Q7. Which are the top 10 employers who have submitted the highest number of applications? How many?"
   ]
  },
  {
   "cell_type": "code",
   "execution_count": 13,
   "metadata": {
    "deletable": false,
    "nbgrader": {
     "checksum": "9e2f62b851ef82a47f3412bc11c97dd4",
     "grade": true,
     "grade_id": "Answer7",
     "locked": false,
     "points": 6,
     "schema_version": 1,
     "solution": true
    }
   },
   "outputs": [
    {
     "data": {
      "text/plain": [
       "employer_name\n",
       "COGNIZANT TECHNOLOGY SOLUTIONS US CORPORATION    11587\n",
       "MICROSOFT CORPORATION                             4625\n",
       "INTEL CORPORATION                                 4127\n",
       "GOOGLE INC.                                       3771\n",
       "AMAZON CORPORATE LLC                              2716\n",
       "CISCO SYSTEMS, INC.                               2097\n",
       "INFOSYS LTD.                                      1795\n",
       "APPLE INC.                                        1730\n",
       "ORACLE AMERICA, INC.                              1552\n",
       "FACEBOOK, INC.                                    1268\n",
       "Name: case_number, dtype: int64"
      ]
     },
     "execution_count": 13,
     "metadata": {},
     "output_type": "execute_result"
    }
   ],
   "source": [
    "data.groupby('employer_name')['case_number'].count().sort_values(ascending=False).head(10)"
   ]
  },
  {
   "cell_type": "markdown",
   "metadata": {
    "deletable": false,
    "editable": false,
    "nbgrader": {
     "checksum": "13d7f3f5540c6883e9f90cd6e21dd666",
     "grade": false,
     "grade_id": "Question8",
     "locked": true,
     "schema_version": 1,
     "solution": false
    }
   },
   "source": [
    "Q8. What is the average time of processing the applications?"
   ]
  },
  {
   "cell_type": "code",
   "execution_count": 14,
   "metadata": {
    "deletable": false,
    "nbgrader": {
     "checksum": "eda4a726e059a0c32dc317a6577ec3a8",
     "grade": true,
     "grade_id": "Answer8",
     "locked": false,
     "points": 6,
     "schema_version": 1,
     "solution": true
    }
   },
   "outputs": [
    {
     "data": {
      "text/plain": [
       "Timedelta('208 days 01:59:13.654466')"
      ]
     },
     "execution_count": 14,
     "metadata": {},
     "output_type": "execute_result"
    }
   ],
   "source": [
    "Case_Recieved = (pd.to_datetime(data['case_received_date']))\n",
    "Decision_Date = (pd.to_datetime(data['decision_date']))\n",
    "Decision_Time = Decision_Date-Case_Recieved\n",
    "Decision_Time.mean()"
   ]
  },
  {
   "cell_type": "markdown",
   "metadata": {
    "deletable": false,
    "editable": false,
    "nbgrader": {
     "checksum": "18cc0ccf8d3dbe607c374dfb5ec14495",
     "grade": false,
     "grade_id": "Question9",
     "locked": true,
     "schema_version": 1,
     "solution": false
    }
   },
   "source": [
    "Q9. What is count of applications for each case status(e.g. Certified, Denied etc) for applicants with \"Doctorate\" degree?"
   ]
  },
  {
   "cell_type": "code",
   "execution_count": 15,
   "metadata": {
    "deletable": false,
    "nbgrader": {
     "checksum": "fe6d2cbf3707a7e034fd33f27b717ef2",
     "grade": true,
     "grade_id": "Answer9",
     "locked": false,
     "points": 6,
     "schema_version": 1,
     "solution": true
    }
   },
   "outputs": [
    {
     "data": {
      "text/plain": [
       "case_status\n",
       "Certified            5965\n",
       "Certified-Expired    5449\n",
       "Denied                345\n",
       "Withdrawn             484\n",
       "Name: case_number, dtype: int64"
      ]
     },
     "execution_count": 15,
     "metadata": {},
     "output_type": "execute_result"
    }
   ],
   "source": [
    "data[data['foreign_worker_info_education'] == 'Doctorate'].groupby('case_status')['case_number'].count()"
   ]
  },
  {
   "cell_type": "markdown",
   "metadata": {
    "deletable": false,
    "editable": false,
    "nbgrader": {
     "checksum": "f15a883b6acb598ec594722f1c8ba08a",
     "grade": false,
     "grade_id": "Question10",
     "locked": true,
     "schema_version": 1,
     "solution": false
    }
   },
   "source": [
    "Q.10 What are the top 3 economic sectors that has maximum applicants? How many applications are submitted from these sectors? (Use case_no column here, instead of case_number)"
   ]
  },
  {
   "cell_type": "code",
   "execution_count": 16,
   "metadata": {
    "deletable": false,
    "nbgrader": {
     "checksum": "bb5968451f16adaa5a03c24b40fa3a4f",
     "grade": true,
     "grade_id": "Answer10",
     "locked": false,
     "points": 6,
     "schema_version": 1,
     "solution": true
    }
   },
   "outputs": [
    {
     "data": {
      "text/plain": [
       "us_economic_sector\n",
       "IT                       52617\n",
       "Advanced Mfg             18749\n",
       "Other Economic Sector    15798\n",
       "Name: case_no, dtype: int64"
      ]
     },
     "execution_count": 16,
     "metadata": {},
     "output_type": "execute_result"
    }
   ],
   "source": [
    "data.groupby('us_economic_sector')['case_no'].count().sort_values(ascending=False).head(3)"
   ]
  },
  {
   "cell_type": "markdown",
   "metadata": {
    "deletable": false,
    "editable": false,
    "nbgrader": {
     "checksum": "e74b16657376875fe477d16b2031d068",
     "grade": false,
     "grade_id": "Question11",
     "locked": true,
     "schema_version": 1,
     "solution": false
    }
   },
   "source": [
    "Q.11 What is the mean wage of all the certified visa applications?"
   ]
  },
  {
   "cell_type": "code",
   "execution_count": 17,
   "metadata": {
    "deletable": false,
    "nbgrader": {
     "checksum": "24d9067380afeacb300874b38d4eb207",
     "grade": true,
     "grade_id": "Answer11",
     "locked": false,
     "points": 6,
     "schema_version": 1,
     "solution": true
    }
   },
   "outputs": [
    {
     "data": {
      "text/plain": [
       "case_status\n",
       "Certified    98359.286042\n",
       "Name: wage_offered_from_9089, dtype: float64"
      ]
     },
     "execution_count": 17,
     "metadata": {},
     "output_type": "execute_result"
    }
   ],
   "source": [
    "data[data['case_status']=='Certified'].groupby('case_status')['wage_offered_from_9089'].mean()"
   ]
  },
  {
   "cell_type": "markdown",
   "metadata": {
    "deletable": false,
    "editable": false,
    "nbgrader": {
     "checksum": "5473b1c64cd8caea52aed2d291bca579",
     "grade": false,
     "grade_id": "Question12",
     "locked": true,
     "schema_version": 1,
     "solution": false
    }
   },
   "source": [
    "Q.12 Show one instresting finding of your own which is not covered above. Show the code and write your finding as comment."
   ]
  },
  {
   "cell_type": "code",
   "execution_count": 18,
   "metadata": {
    "deletable": false,
    "nbgrader": {
     "checksum": "cb448270b83f94bd943c87c6facd7c81",
     "grade": true,
     "grade_id": "Answer12",
     "locked": false,
     "points": 10,
     "schema_version": 1,
     "solution": true
    }
   },
   "outputs": [
    {
     "data": {
      "text/plain": [
       "foreign_worker_info_education\n",
       "Other          95196.657619\n",
       "Master's       93038.799610\n",
       "Bachelor's     91648.523886\n",
       "Doctorate      77610.529559\n",
       "Associate's    46694.148947\n",
       "None           29220.897894\n",
       "High School    28992.438391\n",
       "Name: pw_amount_9089, dtype: float64"
      ]
     },
     "execution_count": 18,
     "metadata": {},
     "output_type": "execute_result"
    }
   ],
   "source": [
    "data['pw_amount_9089'] = pd.to_numeric(data['pw_amount_9089'],errors = 'coerce')\n",
    "data.groupby('foreign_worker_info_education')['pw_amount_9089'].mean().sort_values(ascending=False)\n",
    "## The finding below showcases what kind of degree would fetch what amount of average salary "
   ]
  },
  {
   "cell_type": "markdown",
   "metadata": {
    "deletable": false,
    "editable": false,
    "nbgrader": {
     "checksum": "11f1e2eee185b04d4ae6543bf2be0290",
     "grade": false,
     "grade_id": "Question13",
     "locked": true,
     "schema_version": 1,
     "solution": false
    }
   },
   "source": [
    "Q.13 Write a report on your analysis of this dataset. (Around 200 words, but quality of your report will be taken into account more than count of words)"
   ]
  },
  {
   "cell_type": "markdown",
   "metadata": {
    "deletable": false,
    "nbgrader": {
     "checksum": "78ed2df6f548460a13198caca37b0c7f",
     "grade": true,
     "grade_id": "Answer13",
     "locked": false,
     "points": 24,
     "schema_version": 1,
     "solution": true
    }
   },
   "source": [
    "•\tThe dataset consists of 374362 rows with 154 variables. Most citizens applying for permanent citizenship are from India, China, South Korea respectively.\n",
    "•\tOut of the 374362 people who applied, 12781 were denied permanent Visa\n",
    "•\t88890 people with H-1B visas were certified for permanent residency\n",
    "•\tCollege Station (11632) has the highest number of employers who have submitted an application for permanent visa, followed by NewYork(9844) and Santa Clara.\n",
    "•\tTop employers who have submitted application for permanent Visa are Cognizant Technology solutions US Corporation (11587) followed by Microsoft (4625), Intel (4127) and Google Inc (3771). It is evident by this that most companies who have applied are Information Technology related.\n",
    "•\tAn average of 208 days is required to process a Visa application.\n",
    "•\tThe ratio of certified Visa application for a person with “Doctorate” is much higher than for a “Master’s” or other degree.\n",
    "•\tIT sector (52617) has the highest number of people to have applied for Permanent Visa application. Advanced Mfg. (18749) follows this but only with a huge gap of 33868. \n",
    "•\tThe mean wage for people who have certified application is (98359$).\n",
    "\n",
    "\tThe anomaly I found out from the individual interesting finding is that the average salary of “Doctorate” degree is less than the average salary for “Master’s” and “Bachelor’s”\n",
    "\tOther interesting finding not shown in the code I found out was the chance of getting a permanent Visa certified is higher for a person with a Doctorate degree.\n",
    "\tFor every 1 visa application rejected 9 are accepted. The acceptance ratio is 9:1\n",
    "\tOne final interesting finding is that the Cognizant Technology Solution US Corporation has the maximum number of Indian people with Certified Visas. This is probably because of its Indian roots.\n",
    "\n",
    "\n"
   ]
  },
  {
   "cell_type": "code",
   "execution_count": 3,
   "metadata": {},
   "outputs": [
    {
     "name": "stdout",
     "output_type": "stream",
     "text": [
      "<class 'pandas.core.frame.DataFrame'>\n",
      "RangeIndex: 374362 entries, 0 to 374361\n",
      "Columns: 154 entries, add_these_pw_job_title_9089 to wage_offered_unit_of_pay_9089\n",
      "dtypes: float64(10), object(144)\n",
      "memory usage: 439.8+ MB\n"
     ]
    }
   ],
   "source": [
    "data.info()"
   ]
  },
  {
   "cell_type": "code",
   "execution_count": 4,
   "metadata": {},
   "outputs": [
    {
     "data": {
      "text/html": [
       "<div>\n",
       "<style scoped>\n",
       "    .dataframe tbody tr th:only-of-type {\n",
       "        vertical-align: middle;\n",
       "    }\n",
       "\n",
       "    .dataframe tbody tr th {\n",
       "        vertical-align: top;\n",
       "    }\n",
       "\n",
       "    .dataframe thead th {\n",
       "        text-align: right;\n",
       "    }\n",
       "</style>\n",
       "<table border=\"1\" class=\"dataframe\">\n",
       "  <thead>\n",
       "    <tr style=\"text-align: right;\">\n",
       "      <th></th>\n",
       "      <th>employer_num_employees</th>\n",
       "      <th>employer_yr_estab</th>\n",
       "      <th>foreign_worker_yr_rel_edu_completed</th>\n",
       "      <th>fw_info_yr_rel_edu_completed</th>\n",
       "      <th>job_info_alt_cmb_ed_oth_yrs</th>\n",
       "      <th>job_info_alt_occ_num_months</th>\n",
       "      <th>job_info_experience_num_months</th>\n",
       "      <th>job_info_training_num_months</th>\n",
       "      <th>wage_offered_from_9089</th>\n",
       "      <th>wage_offered_to_9089</th>\n",
       "    </tr>\n",
       "  </thead>\n",
       "  <tbody>\n",
       "    <tr>\n",
       "      <th>count</th>\n",
       "      <td>2.390130e+05</td>\n",
       "      <td>238958.000000</td>\n",
       "      <td>83364.000000</td>\n",
       "      <td>137198.000000</td>\n",
       "      <td>70220.000000</td>\n",
       "      <td>147200.000000</td>\n",
       "      <td>133188.000000</td>\n",
       "      <td>4779.000000</td>\n",
       "      <td>1.146470e+05</td>\n",
       "      <td>3.101500e+04</td>\n",
       "    </tr>\n",
       "    <tr>\n",
       "      <th>mean</th>\n",
       "      <td>2.309387e+04</td>\n",
       "      <td>1984.208267</td>\n",
       "      <td>2001.345761</td>\n",
       "      <td>2002.633603</td>\n",
       "      <td>4.593876</td>\n",
       "      <td>36.483118</td>\n",
       "      <td>33.103560</td>\n",
       "      <td>32.685081</td>\n",
       "      <td>9.588846e+04</td>\n",
       "      <td>1.232273e+05</td>\n",
       "    </tr>\n",
       "    <tr>\n",
       "      <th>std</th>\n",
       "      <td>5.453129e+05</td>\n",
       "      <td>38.470555</td>\n",
       "      <td>91.444715</td>\n",
       "      <td>89.674423</td>\n",
       "      <td>4.838582</td>\n",
       "      <td>23.391668</td>\n",
       "      <td>22.733393</td>\n",
       "      <td>20.593288</td>\n",
       "      <td>1.463822e+05</td>\n",
       "      <td>1.080289e+05</td>\n",
       "    </tr>\n",
       "    <tr>\n",
       "      <th>min</th>\n",
       "      <td>0.000000e+00</td>\n",
       "      <td>0.000000</td>\n",
       "      <td>0.000000</td>\n",
       "      <td>0.000000</td>\n",
       "      <td>0.000000</td>\n",
       "      <td>0.000000</td>\n",
       "      <td>0.000000</td>\n",
       "      <td>0.000000</td>\n",
       "      <td>6.700000e+00</td>\n",
       "      <td>0.000000e+00</td>\n",
       "    </tr>\n",
       "    <tr>\n",
       "      <th>25%</th>\n",
       "      <td>7.300000e+01</td>\n",
       "      <td>1980.000000</td>\n",
       "      <td>2003.000000</td>\n",
       "      <td>2004.000000</td>\n",
       "      <td>3.000000</td>\n",
       "      <td>24.000000</td>\n",
       "      <td>12.000000</td>\n",
       "      <td>12.000000</td>\n",
       "      <td>7.453400e+04</td>\n",
       "      <td>9.700100e+04</td>\n",
       "    </tr>\n",
       "    <tr>\n",
       "      <th>50%</th>\n",
       "      <td>1.200000e+03</td>\n",
       "      <td>1996.000000</td>\n",
       "      <td>2006.000000</td>\n",
       "      <td>2007.000000</td>\n",
       "      <td>5.000000</td>\n",
       "      <td>24.000000</td>\n",
       "      <td>24.000000</td>\n",
       "      <td>36.000000</td>\n",
       "      <td>9.064400e+04</td>\n",
       "      <td>1.206000e+05</td>\n",
       "    </tr>\n",
       "    <tr>\n",
       "      <th>75%</th>\n",
       "      <td>1.613400e+04</td>\n",
       "      <td>2004.000000</td>\n",
       "      <td>2010.000000</td>\n",
       "      <td>2011.000000</td>\n",
       "      <td>5.000000</td>\n",
       "      <td>60.000000</td>\n",
       "      <td>60.000000</td>\n",
       "      <td>36.000000</td>\n",
       "      <td>1.100000e+05</td>\n",
       "      <td>1.448419e+05</td>\n",
       "    </tr>\n",
       "    <tr>\n",
       "      <th>max</th>\n",
       "      <td>2.635506e+08</td>\n",
       "      <td>2016.000000</td>\n",
       "      <td>2103.000000</td>\n",
       "      <td>2207.000000</td>\n",
       "      <td>96.000000</td>\n",
       "      <td>240.000000</td>\n",
       "      <td>244.000000</td>\n",
       "      <td>240.000000</td>\n",
       "      <td>1.629060e+07</td>\n",
       "      <td>1.328500e+07</td>\n",
       "    </tr>\n",
       "  </tbody>\n",
       "</table>\n",
       "</div>"
      ],
      "text/plain": [
       "       employer_num_employees  employer_yr_estab  \\\n",
       "count            2.390130e+05      238958.000000   \n",
       "mean             2.309387e+04        1984.208267   \n",
       "std              5.453129e+05          38.470555   \n",
       "min              0.000000e+00           0.000000   \n",
       "25%              7.300000e+01        1980.000000   \n",
       "50%              1.200000e+03        1996.000000   \n",
       "75%              1.613400e+04        2004.000000   \n",
       "max              2.635506e+08        2016.000000   \n",
       "\n",
       "       foreign_worker_yr_rel_edu_completed  fw_info_yr_rel_edu_completed  \\\n",
       "count                         83364.000000                 137198.000000   \n",
       "mean                           2001.345761                   2002.633603   \n",
       "std                              91.444715                     89.674423   \n",
       "min                               0.000000                      0.000000   \n",
       "25%                            2003.000000                   2004.000000   \n",
       "50%                            2006.000000                   2007.000000   \n",
       "75%                            2010.000000                   2011.000000   \n",
       "max                            2103.000000                   2207.000000   \n",
       "\n",
       "       job_info_alt_cmb_ed_oth_yrs  job_info_alt_occ_num_months  \\\n",
       "count                 70220.000000                147200.000000   \n",
       "mean                      4.593876                    36.483118   \n",
       "std                       4.838582                    23.391668   \n",
       "min                       0.000000                     0.000000   \n",
       "25%                       3.000000                    24.000000   \n",
       "50%                       5.000000                    24.000000   \n",
       "75%                       5.000000                    60.000000   \n",
       "max                      96.000000                   240.000000   \n",
       "\n",
       "       job_info_experience_num_months  job_info_training_num_months  \\\n",
       "count                   133188.000000                   4779.000000   \n",
       "mean                        33.103560                     32.685081   \n",
       "std                         22.733393                     20.593288   \n",
       "min                          0.000000                      0.000000   \n",
       "25%                         12.000000                     12.000000   \n",
       "50%                         24.000000                     36.000000   \n",
       "75%                         60.000000                     36.000000   \n",
       "max                        244.000000                    240.000000   \n",
       "\n",
       "       wage_offered_from_9089  wage_offered_to_9089  \n",
       "count            1.146470e+05          3.101500e+04  \n",
       "mean             9.588846e+04          1.232273e+05  \n",
       "std              1.463822e+05          1.080289e+05  \n",
       "min              6.700000e+00          0.000000e+00  \n",
       "25%              7.453400e+04          9.700100e+04  \n",
       "50%              9.064400e+04          1.206000e+05  \n",
       "75%              1.100000e+05          1.448419e+05  \n",
       "max              1.629060e+07          1.328500e+07  "
      ]
     },
     "execution_count": 4,
     "metadata": {},
     "output_type": "execute_result"
    }
   ],
   "source": [
    "data.describe()"
   ]
  },
  {
   "cell_type": "code",
   "execution_count": 7,
   "metadata": {},
   "outputs": [
    {
     "data": {
      "text/html": [
       "<div>\n",
       "<style scoped>\n",
       "    .dataframe tbody tr th:only-of-type {\n",
       "        vertical-align: middle;\n",
       "    }\n",
       "\n",
       "    .dataframe tbody tr th {\n",
       "        vertical-align: top;\n",
       "    }\n",
       "\n",
       "    .dataframe thead th {\n",
       "        text-align: right;\n",
       "    }\n",
       "</style>\n",
       "<table border=\"1\" class=\"dataframe\">\n",
       "  <thead>\n",
       "    <tr style=\"text-align: right;\">\n",
       "      <th></th>\n",
       "      <th>add_these_pw_job_title_9089</th>\n",
       "      <th>agent_city</th>\n",
       "      <th>agent_firm_name</th>\n",
       "      <th>agent_state</th>\n",
       "      <th>application_type</th>\n",
       "      <th>case_no</th>\n",
       "      <th>case_number</th>\n",
       "      <th>case_received_date</th>\n",
       "      <th>case_status</th>\n",
       "      <th>class_of_admission</th>\n",
       "      <th>...</th>\n",
       "      <th>ri_posted_notice_at_worksite</th>\n",
       "      <th>ri_pvt_employment_firm_from</th>\n",
       "      <th>ri_pvt_employment_firm_to</th>\n",
       "      <th>ri_us_workers_considered</th>\n",
       "      <th>schd_a_sheepherder</th>\n",
       "      <th>us_economic_sector</th>\n",
       "      <th>wage_offer_from_9089</th>\n",
       "      <th>wage_offer_to_9089</th>\n",
       "      <th>wage_offer_unit_of_pay_9089</th>\n",
       "      <th>wage_offered_unit_of_pay_9089</th>\n",
       "    </tr>\n",
       "  </thead>\n",
       "  <tbody>\n",
       "    <tr>\n",
       "      <th>count</th>\n",
       "      <td>42194</td>\n",
       "      <td>211454</td>\n",
       "      <td>206997</td>\n",
       "      <td>208239</td>\n",
       "      <td>135269</td>\n",
       "      <td>135269</td>\n",
       "      <td>239093</td>\n",
       "      <td>239091</td>\n",
       "      <td>374362</td>\n",
       "      <td>351517</td>\n",
       "      <td>...</td>\n",
       "      <td>239002</td>\n",
       "      <td>16442</td>\n",
       "      <td>16440</td>\n",
       "      <td>17233</td>\n",
       "      <td>239074</td>\n",
       "      <td>129068</td>\n",
       "      <td>259591</td>\n",
       "      <td>73634.0</td>\n",
       "      <td>258446</td>\n",
       "      <td>70699</td>\n",
       "    </tr>\n",
       "    <tr>\n",
       "      <th>unique</th>\n",
       "      <td>4276</td>\n",
       "      <td>1838</td>\n",
       "      <td>10135</td>\n",
       "      <td>108</td>\n",
       "      <td>3</td>\n",
       "      <td>134990</td>\n",
       "      <td>238418</td>\n",
       "      <td>2180</td>\n",
       "      <td>4</td>\n",
       "      <td>57</td>\n",
       "      <td>...</td>\n",
       "      <td>3</td>\n",
       "      <td>1006</td>\n",
       "      <td>1173</td>\n",
       "      <td>3</td>\n",
       "      <td>1</td>\n",
       "      <td>17</td>\n",
       "      <td>38945</td>\n",
       "      <td>14053.0</td>\n",
       "      <td>10</td>\n",
       "      <td>5</td>\n",
       "    </tr>\n",
       "    <tr>\n",
       "      <th>top</th>\n",
       "      <td>Software Developers, Applications</td>\n",
       "      <td>New York</td>\n",
       "      <td>Fragomen, Del Rey, Bernsen &amp; Loewy, LLP</td>\n",
       "      <td>CA</td>\n",
       "      <td>ONLINE</td>\n",
       "      <td>A-13030-36063</td>\n",
       "      <td>A-14160-76066</td>\n",
       "      <td>2014-06-30</td>\n",
       "      <td>Certified</td>\n",
       "      <td>H-1B</td>\n",
       "      <td>...</td>\n",
       "      <td>Y</td>\n",
       "      <td>2013-07-23</td>\n",
       "      <td>2013-07-30</td>\n",
       "      <td>A</td>\n",
       "      <td>N</td>\n",
       "      <td>IT</td>\n",
       "      <td>72,467.00</td>\n",
       "      <td>160000.0</td>\n",
       "      <td>Year</td>\n",
       "      <td>Year</td>\n",
       "    </tr>\n",
       "    <tr>\n",
       "      <th>freq</th>\n",
       "      <td>10042</td>\n",
       "      <td>19359</td>\n",
       "      <td>29569</td>\n",
       "      <td>35299</td>\n",
       "      <td>112564</td>\n",
       "      <td>2</td>\n",
       "      <td>3</td>\n",
       "      <td>767</td>\n",
       "      <td>181933</td>\n",
       "      <td>283018</td>\n",
       "      <td>...</td>\n",
       "      <td>235182</td>\n",
       "      <td>2478</td>\n",
       "      <td>2478</td>\n",
       "      <td>8892</td>\n",
       "      <td>239074</td>\n",
       "      <td>52617</td>\n",
       "      <td>2775</td>\n",
       "      <td>1519.0</td>\n",
       "      <td>230591</td>\n",
       "      <td>68950</td>\n",
       "    </tr>\n",
       "  </tbody>\n",
       "</table>\n",
       "<p>4 rows × 144 columns</p>\n",
       "</div>"
      ],
      "text/plain": [
       "              add_these_pw_job_title_9089 agent_city  \\\n",
       "count                               42194     211454   \n",
       "unique                               4276       1838   \n",
       "top     Software Developers, Applications   New York   \n",
       "freq                                10042      19359   \n",
       "\n",
       "                                agent_firm_name agent_state application_type  \\\n",
       "count                                    206997      208239           135269   \n",
       "unique                                    10135         108                3   \n",
       "top     Fragomen, Del Rey, Bernsen & Loewy, LLP          CA           ONLINE   \n",
       "freq                                      29569       35299           112564   \n",
       "\n",
       "              case_no    case_number case_received_date case_status  \\\n",
       "count          135269         239093             239091      374362   \n",
       "unique         134990         238418               2180           4   \n",
       "top     A-13030-36063  A-14160-76066         2014-06-30   Certified   \n",
       "freq                2              3                767      181933   \n",
       "\n",
       "       class_of_admission              ...               \\\n",
       "count              351517              ...                \n",
       "unique                 57              ...                \n",
       "top                  H-1B              ...                \n",
       "freq               283018              ...                \n",
       "\n",
       "       ri_posted_notice_at_worksite ri_pvt_employment_firm_from  \\\n",
       "count                        239002                       16442   \n",
       "unique                            3                        1006   \n",
       "top                               Y                  2013-07-23   \n",
       "freq                         235182                        2478   \n",
       "\n",
       "       ri_pvt_employment_firm_to ri_us_workers_considered schd_a_sheepherder  \\\n",
       "count                      16440                    17233             239074   \n",
       "unique                      1173                        3                  1   \n",
       "top                   2013-07-30                        A                  N   \n",
       "freq                        2478                     8892             239074   \n",
       "\n",
       "       us_economic_sector wage_offer_from_9089 wage_offer_to_9089  \\\n",
       "count              129068               259591            73634.0   \n",
       "unique                 17                38945            14053.0   \n",
       "top                    IT            72,467.00           160000.0   \n",
       "freq                52617                 2775             1519.0   \n",
       "\n",
       "       wage_offer_unit_of_pay_9089 wage_offered_unit_of_pay_9089  \n",
       "count                       258446                         70699  \n",
       "unique                          10                             5  \n",
       "top                           Year                          Year  \n",
       "freq                        230591                         68950  \n",
       "\n",
       "[4 rows x 144 columns]"
      ]
     },
     "execution_count": 7,
     "metadata": {},
     "output_type": "execute_result"
    }
   ],
   "source": [
    "data.describe(include=['O'])"
   ]
  },
  {
   "cell_type": "code",
   "execution_count": null,
   "metadata": {},
   "outputs": [],
   "source": []
  }
 ],
 "metadata": {
  "kernelspec": {
   "display_name": "Python 3",
   "language": "python",
   "name": "python3"
  },
  "language_info": {
   "codemirror_mode": {
    "name": "ipython",
    "version": 3
   },
   "file_extension": ".py",
   "mimetype": "text/x-python",
   "name": "python",
   "nbconvert_exporter": "python",
   "pygments_lexer": "ipython3",
   "version": "3.6.5"
  }
 },
 "nbformat": 4,
 "nbformat_minor": 2
}
